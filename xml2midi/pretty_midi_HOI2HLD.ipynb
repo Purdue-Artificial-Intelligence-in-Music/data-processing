{
 "cells": [
  {
   "cell_type": "code",
   "execution_count": 2,
   "id": "initial_id",
   "metadata": {
    "collapsed": true,
    "ExecuteTime": {
     "end_time": "2024-02-13T22:18:57.311242500Z",
     "start_time": "2024-02-13T22:18:57.297236600Z"
    }
   },
   "outputs": [],
   "source": [
    "import pretty_midi"
   ]
  },
  {
   "cell_type": "code",
   "execution_count": 3,
   "outputs": [],
   "source": [
    "midi = pretty_midi.PrettyMIDI(\"Abide by Me_modified.midi\")"
   ],
   "metadata": {
    "collapsed": false,
    "ExecuteTime": {
     "end_time": "2024-02-13T22:19:14.182424300Z",
     "start_time": "2024-02-13T22:19:13.943783600Z"
    }
   },
   "id": "59f545a84baaa3e7"
  },
  {
   "cell_type": "code",
   "execution_count": 4,
   "outputs": [],
   "source": [
    "inst = midi.instruments[0]"
   ],
   "metadata": {
    "collapsed": false,
    "ExecuteTime": {
     "end_time": "2024-02-13T22:19:31.139266Z",
     "start_time": "2024-02-13T22:19:31.125265100Z"
    }
   },
   "id": "627c9436feff766b"
  },
  {
   "cell_type": "code",
   "execution_count": 5,
   "outputs": [
    {
     "data": {
      "text/plain": "[ControlChange(number=2, value=57, time=0.000000),\n ControlChange(number=24, value=127, time=0.000000),\n ControlChange(number=2, value=57, time=0.050000),\n ControlChange(number=2, value=58, time=0.100000),\n ControlChange(number=2, value=58, time=0.150000),\n ControlChange(number=2, value=58, time=0.200000),\n ControlChange(number=2, value=59, time=0.250000),\n ControlChange(number=2, value=59, time=0.300000),\n ControlChange(number=2, value=59, time=0.350000),\n ControlChange(number=2, value=60, time=0.400000),\n ControlChange(number=2, value=60, time=0.450000),\n ControlChange(number=2, value=60, time=0.500000),\n ControlChange(number=2, value=61, time=0.550000),\n ControlChange(number=2, value=61, time=0.600000),\n ControlChange(number=2, value=61, time=0.650000),\n ControlChange(number=2, value=62, time=0.700000),\n ControlChange(number=2, value=62, time=0.750000),\n ControlChange(number=2, value=62, time=0.800000),\n ControlChange(number=2, value=63, time=0.850000),\n ControlChange(number=2, value=63, time=0.900000),\n ControlChange(number=2, value=63, time=0.950000),\n ControlChange(number=2, value=64, time=1.000000),\n ControlChange(number=2, value=64, time=1.050000),\n ControlChange(number=2, value=64, time=1.100000),\n ControlChange(number=2, value=65, time=1.150000),\n ControlChange(number=2, value=65, time=1.200000),\n ControlChange(number=2, value=65, time=1.250000),\n ControlChange(number=2, value=66, time=1.300000),\n ControlChange(number=2, value=66, time=1.350000),\n ControlChange(number=2, value=66, time=1.400000),\n ControlChange(number=2, value=67, time=1.450000),\n ControlChange(number=2, value=67, time=1.500000),\n ControlChange(number=2, value=67, time=1.550000),\n ControlChange(number=2, value=68, time=1.600000),\n ControlChange(number=2, value=68, time=1.650000),\n ControlChange(number=2, value=68, time=1.700000),\n ControlChange(number=2, value=69, time=1.750000),\n ControlChange(number=2, value=69, time=1.800000),\n ControlChange(number=2, value=69, time=1.850000),\n ControlChange(number=2, value=70, time=1.900000),\n ControlChange(number=2, value=70, time=1.950000),\n ControlChange(number=2, value=70, time=2.000000),\n ControlChange(number=2, value=71, time=2.050000),\n ControlChange(number=2, value=71, time=2.100000),\n ControlChange(number=2, value=71, time=2.150000),\n ControlChange(number=2, value=72, time=2.200000),\n ControlChange(number=2, value=72, time=2.250000),\n ControlChange(number=2, value=72, time=2.300000),\n ControlChange(number=2, value=73, time=2.350000),\n ControlChange(number=2, value=73, time=2.400000),\n ControlChange(number=2, value=73, time=2.450000),\n ControlChange(number=2, value=74, time=2.500000),\n ControlChange(number=2, value=74, time=2.550000),\n ControlChange(number=2, value=74, time=2.600000),\n ControlChange(number=2, value=75, time=2.650000),\n ControlChange(number=2, value=75, time=2.700000),\n ControlChange(number=2, value=75, time=2.750000),\n ControlChange(number=2, value=76, time=2.800000),\n ControlChange(number=2, value=76, time=2.850000),\n ControlChange(number=2, value=76, time=2.900000),\n ControlChange(number=2, value=77, time=2.950000),\n ControlChange(number=2, value=77, time=3.000000),\n ControlChange(number=2, value=77, time=3.050000),\n ControlChange(number=2, value=78, time=3.100000),\n ControlChange(number=2, value=78, time=3.150000),\n ControlChange(number=2, value=78, time=3.200000),\n ControlChange(number=2, value=79, time=3.250000),\n ControlChange(number=2, value=79, time=3.300000),\n ControlChange(number=2, value=79, time=3.350000),\n ControlChange(number=2, value=80, time=3.400000),\n ControlChange(number=2, value=80, time=3.450000),\n ControlChange(number=2, value=80, time=3.500000),\n ControlChange(number=2, value=81, time=3.600000),\n ControlChange(number=24, value=0, time=3.600000),\n ControlChange(number=2, value=89, time=4.800000),\n ControlChange(number=24, value=127, time=4.800000),\n ControlChange(number=2, value=88, time=4.850000),\n ControlChange(number=2, value=88, time=4.900000),\n ControlChange(number=2, value=87, time=4.950000),\n ControlChange(number=2, value=86, time=5.000000),\n ControlChange(number=2, value=86, time=5.050000),\n ControlChange(number=2, value=85, time=5.100000),\n ControlChange(number=2, value=84, time=5.150000),\n ControlChange(number=2, value=84, time=5.200000),\n ControlChange(number=2, value=83, time=5.250000),\n ControlChange(number=2, value=82, time=5.300000),\n ControlChange(number=2, value=82, time=5.350000),\n ControlChange(number=2, value=81, time=5.400000),\n ControlChange(number=2, value=80, time=5.450000),\n ControlChange(number=2, value=80, time=5.500000),\n ControlChange(number=2, value=79, time=5.550000),\n ControlChange(number=2, value=78, time=5.600000),\n ControlChange(number=2, value=78, time=5.650000),\n ControlChange(number=2, value=77, time=5.700000),\n ControlChange(number=2, value=76, time=5.750000),\n ControlChange(number=2, value=76, time=5.800000),\n ControlChange(number=2, value=75, time=5.850000),\n ControlChange(number=2, value=74, time=5.900000),\n ControlChange(number=2, value=74, time=5.950000),\n ControlChange(number=2, value=73, time=6.000000),\n ControlChange(number=2, value=72, time=6.050000),\n ControlChange(number=2, value=72, time=6.100000),\n ControlChange(number=2, value=71, time=6.150000),\n ControlChange(number=2, value=70, time=6.200000),\n ControlChange(number=2, value=70, time=6.250000),\n ControlChange(number=2, value=69, time=6.300000),\n ControlChange(number=2, value=68, time=6.350000),\n ControlChange(number=2, value=68, time=6.400000),\n ControlChange(number=2, value=67, time=6.450000),\n ControlChange(number=2, value=66, time=6.500000),\n ControlChange(number=2, value=65, time=6.600000),\n ControlChange(number=2, value=57, time=7.200000),\n ControlChange(number=24, value=0, time=7.200000),\n ControlChange(number=21, value=127, time=9.600000),\n ControlChange(number=21, value=0, time=10.800000),\n ControlChange(number=21, value=127, time=10.800000),\n ControlChange(number=21, value=0, time=11.400000),\n ControlChange(number=21, value=127, time=11.400000),\n ControlChange(number=21, value=0, time=12.000000),\n ControlChange(number=21, value=127, time=12.000000),\n ControlChange(number=21, value=0, time=13.200000),\n ControlChange(number=21, value=127, time=13.200000),\n ControlChange(number=20, value=127, time=14.400000),\n ControlChange(number=21, value=0, time=14.400000),\n ControlChange(number=20, value=0, time=15.000000),\n ControlChange(number=20, value=127, time=15.000000),\n ControlChange(number=20, value=0, time=15.184643),\n ControlChange(number=20, value=127, time=15.184643),\n ControlChange(number=20, value=0, time=15.600000),\n ControlChange(number=20, value=127, time=15.600000),\n ControlChange(number=20, value=0, time=16.200000),\n ControlChange(number=20, value=127, time=16.200000),\n ControlChange(number=20, value=0, time=17.550000),\n ControlChange(number=2, value=89, time=17.584598),\n ControlChange(number=23, value=127, time=17.584598),\n ControlChange(number=23, value=0, time=20.261538),\n ControlChange(number=23, value=127, time=20.261538),\n ControlChange(number=24, value=127, time=20.261538),\n ControlChange(number=23, value=0, time=20.376922),\n ControlChange(number=24, value=0, time=20.607692),\n ControlChange(number=23, value=127, time=20.723076),\n ControlChange(number=20, value=127, time=20.953845),\n ControlChange(number=23, value=0, time=20.953845),\n ControlChange(number=20, value=0, time=21.184614),\n ControlChange(number=23, value=127, time=21.184614),\n ControlChange(number=20, value=127, time=21.415383),\n ControlChange(number=23, value=0, time=21.415383),\n ControlChange(number=20, value=0, time=21.646152),\n ControlChange(number=23, value=127, time=21.646152),\n ControlChange(number=23, value=0, time=22.107690),\n ControlChange(number=23, value=127, time=22.107690),\n ControlChange(number=20, value=127, time=22.261536),\n ControlChange(number=23, value=0, time=22.261536),\n ControlChange(number=20, value=0, time=22.415382),\n ControlChange(number=20, value=127, time=22.415382),\n ControlChange(number=20, value=0, time=22.569228),\n ControlChange(number=23, value=127, time=22.569228),\n ControlChange(number=23, value=0, time=23.492304),\n ControlChange(number=23, value=127, time=23.492304),\n ControlChange(number=23, value=0, time=23.953842),\n ControlChange(number=23, value=127, time=23.953842),\n ControlChange(number=23, value=0, time=24.415380),\n ControlChange(number=23, value=127, time=24.415380),\n ControlChange(number=23, value=0, time=24.876918),\n ControlChange(number=23, value=127, time=24.876918),\n ControlChange(number=23, value=0, time=25.338456),\n ControlChange(number=23, value=127, time=25.338456),\n ControlChange(number=23, value=0, time=26.723070),\n ControlChange(number=2, value=57, time=27.184608),\n ControlChange(number=24, value=127, time=27.184608),\n ControlChange(number=2, value=57, time=27.234608),\n ControlChange(number=2, value=57, time=27.284608),\n ControlChange(number=2, value=58, time=27.334608),\n ControlChange(number=2, value=58, time=27.384608),\n ControlChange(number=2, value=58, time=27.434608),\n ControlChange(number=2, value=58, time=27.484608),\n ControlChange(number=2, value=58, time=27.534608),\n ControlChange(number=2, value=58, time=27.584608),\n ControlChange(number=2, value=58, time=27.634608),\n ControlChange(number=2, value=58, time=27.684608),\n ControlChange(number=2, value=59, time=27.734608),\n ControlChange(number=2, value=59, time=27.784608),\n ControlChange(number=2, value=59, time=27.834608),\n ControlChange(number=2, value=59, time=27.884608),\n ControlChange(number=2, value=59, time=27.934608),\n ControlChange(number=2, value=59, time=27.984608),\n ControlChange(number=2, value=59, time=28.034608),\n ControlChange(number=2, value=60, time=28.084608),\n ControlChange(number=2, value=60, time=28.134608),\n ControlChange(number=2, value=60, time=28.184608),\n ControlChange(number=2, value=60, time=28.234608),\n ControlChange(number=2, value=60, time=28.284608),\n ControlChange(number=2, value=60, time=28.334608),\n ControlChange(number=2, value=60, time=28.384608),\n ControlChange(number=2, value=60, time=28.434608),\n ControlChange(number=2, value=61, time=28.484608),\n ControlChange(number=2, value=61, time=28.534608),\n ControlChange(number=2, value=61, time=28.584608),\n ControlChange(number=2, value=61, time=28.634608),\n ControlChange(number=2, value=61, time=28.684608),\n ControlChange(number=2, value=61, time=28.734608),\n ControlChange(number=2, value=61, time=28.784608),\n ControlChange(number=2, value=62, time=28.834608),\n ControlChange(number=2, value=62, time=28.884608),\n ControlChange(number=2, value=62, time=28.934608),\n ControlChange(number=2, value=62, time=28.984608),\n ControlChange(number=2, value=62, time=29.034608),\n ControlChange(number=2, value=62, time=29.084608),\n ControlChange(number=2, value=62, time=29.134608),\n ControlChange(number=2, value=62, time=29.184608),\n ControlChange(number=2, value=63, time=29.234608),\n ControlChange(number=2, value=63, time=29.284608),\n ControlChange(number=2, value=63, time=29.334608),\n ControlChange(number=2, value=63, time=29.384608),\n ControlChange(number=2, value=63, time=29.434608),\n ControlChange(number=2, value=63, time=29.484608),\n ControlChange(number=2, value=63, time=29.534608),\n ControlChange(number=2, value=64, time=29.584608),\n ControlChange(number=2, value=64, time=29.634608),\n ControlChange(number=2, value=64, time=29.684608),\n ControlChange(number=2, value=64, time=29.734608),\n ControlChange(number=2, value=64, time=29.784608),\n ControlChange(number=2, value=64, time=29.834608),\n ControlChange(number=2, value=64, time=29.884608),\n ControlChange(number=2, value=64, time=29.934608),\n ControlChange(number=2, value=65, time=29.984608),\n ControlChange(number=2, value=65, time=30.034608),\n ControlChange(number=2, value=65, time=30.084608),\n ControlChange(number=2, value=65, time=30.134608),\n ControlChange(number=2, value=65, time=30.184608),\n ControlChange(number=2, value=65, time=30.234608),\n ControlChange(number=2, value=65, time=30.284608),\n ControlChange(number=2, value=66, time=30.334608),\n ControlChange(number=2, value=66, time=30.384608),\n ControlChange(number=2, value=66, time=30.434608),\n ControlChange(number=2, value=66, time=30.484608),\n ControlChange(number=2, value=66, time=30.534608),\n ControlChange(number=2, value=66, time=30.584608),\n ControlChange(number=2, value=66, time=30.634608),\n ControlChange(number=2, value=66, time=30.684608),\n ControlChange(number=2, value=67, time=30.734608),\n ControlChange(number=2, value=67, time=30.784608),\n ControlChange(number=2, value=67, time=30.834608),\n ControlChange(number=2, value=67, time=30.884608),\n ControlChange(number=2, value=67, time=30.934608),\n ControlChange(number=2, value=67, time=30.984608),\n ControlChange(number=2, value=67, time=31.034608),\n ControlChange(number=2, value=68, time=31.084608),\n ControlChange(number=2, value=68, time=31.134608),\n ControlChange(number=2, value=68, time=31.184608),\n ControlChange(number=2, value=68, time=31.234608),\n ControlChange(number=2, value=68, time=31.284608),\n ControlChange(number=0, value=127, time=31.384608),\n ControlChange(number=2, value=68, time=31.384608),\n ControlChange(number=24, value=0, time=31.384608),\n ControlChange(number=0, value=0, time=31.984608),\n ControlChange(number=2, value=70, time=31.984608),\n ControlChange(number=24, value=127, time=31.984608),\n ControlChange(number=24, value=0, time=34.384608)]"
     },
     "execution_count": 5,
     "metadata": {},
     "output_type": "execute_result"
    }
   ],
   "source": [
    "inst.control_changes"
   ],
   "metadata": {
    "collapsed": false,
    "ExecuteTime": {
     "end_time": "2024-02-13T22:19:41.990386400Z",
     "start_time": "2024-02-13T22:19:41.835714500Z"
    }
   },
   "id": "be03375b1d00d609"
  },
  {
   "cell_type": "code",
   "execution_count": null,
   "outputs": [],
   "source": [],
   "metadata": {
    "collapsed": false
   },
   "id": "459b9b6a164aa793"
  }
 ],
 "metadata": {
  "kernelspec": {
   "display_name": "Python 3",
   "language": "python",
   "name": "python3"
  },
  "language_info": {
   "codemirror_mode": {
    "name": "ipython",
    "version": 2
   },
   "file_extension": ".py",
   "mimetype": "text/x-python",
   "name": "python",
   "nbconvert_exporter": "python",
   "pygments_lexer": "ipython2",
   "version": "2.7.6"
  }
 },
 "nbformat": 4,
 "nbformat_minor": 5
}
