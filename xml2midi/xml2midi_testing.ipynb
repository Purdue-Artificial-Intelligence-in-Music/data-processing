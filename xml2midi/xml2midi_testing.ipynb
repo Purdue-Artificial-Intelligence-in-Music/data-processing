{
 "cells": [
  {
   "cell_type": "code",
   "execution_count": 17,
   "metadata": {},
   "outputs": [],
   "source": [
    "from music21 import *\n",
    "import pretty_midi as pm\n",
    "import numpy as np\n",
    "rn = np.random.default_rng\n",
    "us = environment.UserSettings()\n",
    "us['musescoreDirectPNGPath'] = '/usr/bin/musescore'\n",
    "us['musicxmlPath'] = '/usr/bin/musescore'"
   ]
  },
  {
   "cell_type": "code",
   "execution_count": 6,
   "metadata": {},
   "outputs": [],
   "source": [
    "s = converter.parse(\"ode2joy.musicxml\")\n",
    "# s = converter.parse(\"Untitled_score-Piano.musicxml\").flatten().chordify()\n",
    "# s.show()\n",
    "fp = s.write('midi', 'ode2joy.midi')\n",
    "midi = pm.PrettyMIDI('ode2joy.midi')"
   ]
  },
  {
   "cell_type": "code",
   "execution_count": 63,
   "metadata": {},
   "outputs": [],
   "source": [
    "# for c in midi.instruments[0].notes:\n",
    "#     print(c)"
   ]
  },
  {
   "cell_type": "code",
   "execution_count": 59,
   "metadata": {},
   "outputs": [],
   "source": [
    "def randomize_note_times(midi, mean_shift, stdev_shift, mean_dur_var, stdev_dur_var):\n",
    "    for inst in midi.instruments:\n",
    "        # Shift note times\n",
    "        for note in inst.notes:\n",
    "            shift = rn().normal(loc=mean_shift, scale=stdev_shift)\n",
    "            dur_var = rn().normal(loc=mean_dur_var, scale=stdev_dur_var)\n",
    "            dur = note.end - note.start\n",
    "            start = note.start - shift\n",
    "            end = start + max(0, (dur + dur_var))\n",
    "            note.start = start\n",
    "            note.end = end\n",
    "        # Make sure note times are normalized\n",
    "        min_time = float('inf')\n",
    "        for note in inst.notes:\n",
    "            if note.start < min_time:\n",
    "                min_time = note.start\n",
    "        if min_time < 0:\n",
    "            for note in inst.notes:\n",
    "                note.start += min_time\n",
    "                note.end += min_time\n",
    "\n",
    "def add_pitch_bends(midi, lambda_occur, mean_delta, stdev_delta, step_size):\n",
    "    for inst in midi.instruments:\n",
    "        inst.pitch_bends = []\n",
    "        # Flatten note times list\n",
    "        single_notes = []\n",
    "        last_time = 0.0\n",
    "        for note in inst.notes:\n",
    "            if note.start > last_time:\n",
    "                single_notes.append(note)\n",
    "                last_time = note.end\n",
    "\n",
    "        fixed_bend_points = []\n",
    "        # Add fixed point pitch bends\n",
    "        for note in single_notes:\n",
    "            # Do 1 pitch bend at start of each note\n",
    "            bend = int(rn().normal(mean_delta, stdev_delta))\n",
    "            if bend > 8192:\n",
    "                bend = 8192\n",
    "            elif bend < -8191:\n",
    "                bend = -8191\n",
    "            fixed_bend_points.append(pm.PitchBend(bend, note.start))\n",
    "            # Add more randomly\n",
    "            occurrences = rn().poisson(lam=lambda_occur*(note.end-note.start))\n",
    "            for i in range(occurrences):\n",
    "                time = rn().uniform(low=note.start, high=note.end)\n",
    "                bend = int(rn().normal(mean_delta, stdev_delta))\n",
    "                fixed_bend_points.append(pm.PitchBend(bend, time))\n",
    "\n",
    "        # Sort by time from least to greatest\n",
    "        fixed_bend_points.sort(key=(lambda x : x.time))\n",
    "\n",
    "        # Linear interpolation\n",
    "        inst.pitch_bends = fixed_bend_points.copy()\n",
    "        for i in range(len(fixed_bend_points) - 1):\n",
    "            l_pb = fixed_bend_points[i]\n",
    "            r_pb = fixed_bend_points[i+1]\n",
    "            n_points_to_add = int(np.floor((r_pb.time - l_pb.time) / step_size))\n",
    "            for j in range(1, n_points_to_add+1):\n",
    "                time = l_pb.time + j*step_size\n",
    "                bend = int(l_pb.pitch + ((r_pb.pitch - l_pb.pitch) * (j / (n_points_to_add + 1))))\n",
    "                if bend > 8192:\n",
    "                    bend = 8192\n",
    "                elif bend < -8191:\n",
    "                    bend = -8191\n",
    "                inst.pitch_bends.append(pm.PitchBend(bend, time))    "
   ]
  },
  {
   "cell_type": "code",
   "execution_count": 64,
   "metadata": {},
   "outputs": [],
   "source": [
    "midi = pm.PrettyMIDI('ode2joy.midi')\n",
    "randomize_note_times(midi=midi, mean_shift=0, stdev_shift=0.04, mean_dur_var=0, stdev_dur_var=0.08)\n",
    "add_pitch_bends(midi=midi, lambda_occur=2, mean_delta=0, stdev_delta=500, step_size=0.01)\n",
    "midi.write('o2j_modified.midi')"
   ]
  },
  {
   "cell_type": "code",
   "execution_count": 5,
   "metadata": {},
   "outputs": [],
   "source": [
    "# for n in s.recurse():\n",
    "#     if type(n) == chord.Chord:\n",
    "#         for my_note in n:\n",
    "#             print(my_note.pitch)"
   ]
  }
 ],
 "metadata": {
  "kernelspec": {
   "display_name": "ddsp",
   "language": "python",
   "name": "python3"
  },
  "language_info": {
   "codemirror_mode": {
    "name": "ipython",
    "version": 3
   },
   "file_extension": ".py",
   "mimetype": "text/x-python",
   "name": "python",
   "nbconvert_exporter": "python",
   "pygments_lexer": "ipython3",
   "version": "3.8.18"
  }
 },
 "nbformat": 4,
 "nbformat_minor": 2
}
